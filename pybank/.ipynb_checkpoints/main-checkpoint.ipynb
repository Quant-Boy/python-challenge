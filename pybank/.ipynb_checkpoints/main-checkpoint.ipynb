{
 "cells": [
  {
   "cell_type": "code",
   "execution_count": 70,
   "metadata": {},
   "outputs": [],
   "source": [
    "#Total Months: 25\n",
    "#Total Revenue: $1241412\n",
    "#Average Revenue Change: $216825\n",
    "#Greatest Increase in Revenue: Sep-16 ($815531)\n",
    "#Greatest Decrease in Revenue: Aug-12 ($-652794)\n",
    "\n",
    "import numpy as np\n",
    "import pandas as pd\n",
    "\n",
    "file = r'budget_data_1.csv'\n",
    "df = pd.read_csv(file)\n",
    "print('Total Months: ', df['Date'].count(),file=open(\"output.txt\", \"a\"))\n",
    "print('Total Revenue: $', df['Revenue'].sum(),file=open(\"output.txt\", \"a\"))\n",
    "df['RevChg'] = df['Revenue'] - df['Revenue'].shift(+1)\n",
    "print('Average Revenue Change: $', df['RevChg'].mean(),file=open(\"output.txt\", \"a\"))\n",
    "print('Greatest Increase in Revenue: $', df['RevChg'].max(),file=open(\"output.txt\", \"a\"))\n",
    "print('Greatest Decrease in Revenue: $', df['RevChg'].min(),file=open(\"output.txt\", \"a\"))\n",
    "print(df, file=open(\"output.txt\", \"a\"))\n",
    "\n",
    "\n",
    "\n",
    "\n"
   ]
  },
  {
   "cell_type": "code",
   "execution_count": null,
   "metadata": {
    "collapsed": true
   },
   "outputs": [],
   "source": []
  }
 ],
 "metadata": {
  "kernelspec": {
   "display_name": "Python (PythonData)",
   "language": "python",
   "name": "pythondata"
  },
  "language_info": {
   "codemirror_mode": {
    "name": "ipython",
    "version": 3
   },
   "file_extension": ".py",
   "mimetype": "text/x-python",
   "name": "python",
   "nbconvert_exporter": "python",
   "pygments_lexer": "ipython3",
   "version": "3.6.3"
  }
 },
 "nbformat": 4,
 "nbformat_minor": 2
}

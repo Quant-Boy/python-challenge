{
 "cells": [
  {
   "cell_type": "code",
   "execution_count": 46,
   "metadata": {},
   "outputs": [
    {
     "name": "stdout",
     "output_type": "stream",
     "text": [
      "Election Results\n",
      "-------------------------\n",
      "Total Votes:  803000\n",
      "-------------------------\n",
      "Vestal    385440\n",
      "Torres    353320\n",
      "Seth       40150\n",
      "Cordin     24090\n",
      "Name: Candidate, dtype: int64\n",
      "-------------------------\n",
      "Winner:  Vestal\n",
      "-------------------------\n"
     ]
    }
   ],
   "source": [
    "import numpy as np\n",
    "import pandas as pd\n",
    "\n",
    "file = r'election_data_1.csv'\n",
    "df = pd.read_csv(file)\n",
    "\n",
    "print(\"Election Results\",file=open(\"output.txt\", \"a\"))\n",
    "print(\"Election Results\")\n",
    "print(\"-------------------------\",file=open(\"output.txt\", \"a\"))\n",
    "print(\"-------------------------\")\n",
    "print('Total Votes: ', df['Candidate'].count(),file=open(\"output.txt\", \"a\"))\n",
    "print('Total Votes: ', df['Candidate'].count())\n",
    "print(\"-------------------------\",file=open(\"output.txt\", \"a\"))\n",
    "print(\"-------------------------\")\n",
    "allcands = df['Candidate'].value_counts()\n",
    "print(allcands,file=open(\"output.txt\", \"a\"))\n",
    "print(allcands)\n",
    "print(\"-------------------------\",file=open(\"output.txt\", \"a\"))\n",
    "print(\"-------------------------\")\n",
    "WinVotes = allcands.max()\n",
    "print(\"Winner: \",allcands.loc[allcands == WinVotes].index.values[0],file=open(\"output.txt\", \"a\"))\n",
    "print(\"Winner: \",allcands.loc[allcands == WinVotes].index.values[0])\n",
    "print(\"-------------------------\",file=open(\"output.txt\", \"a\"))\n",
    "print(\"-------------------------\")\n",
    "\n"
   ]
  },
  {
   "cell_type": "code",
   "execution_count": null,
   "metadata": {
    "collapsed": true
   },
   "outputs": [],
   "source": []
  }
 ],
 "metadata": {
  "kernelspec": {
   "display_name": "Python (PythonData)",
   "language": "python",
   "name": "pythondata"
  },
  "language_info": {
   "codemirror_mode": {
    "name": "ipython",
    "version": 3
   },
   "file_extension": ".py",
   "mimetype": "text/x-python",
   "name": "python",
   "nbconvert_exporter": "python",
   "pygments_lexer": "ipython3",
   "version": "3.6.3"
  }
 },
 "nbformat": 4,
 "nbformat_minor": 2
}
